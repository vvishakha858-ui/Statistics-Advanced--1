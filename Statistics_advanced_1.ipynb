{
  "nbformat": 4,
  "nbformat_minor": 0,
  "metadata": {
    "colab": {
      "provenance": []
    },
    "kernelspec": {
      "name": "python3",
      "display_name": "Python 3"
    },
    "language_info": {
      "name": "python"
    }
  },
  "cells": [
    {
      "cell_type": "markdown",
      "source": [
        "# 1-  What is a random variable in probability theory?\n",
        "\n",
        "- In probability theory, a random variable is a variable that takes numerical values determined by the outcome of a random experiment. It provides a way to quantify uncertainty and study probabilistic events mathematically.\n",
        "\n",
        "- A random variable essentially maps each outcome of a random experiment to a real number. For example, if we roll a die, the outcome “3” can be represented as the random variable x = 3\n",
        "\n",
        "- Types of Random Variables:\n",
        "\n",
        "1. Discrete Random Variable: Takes specific, countable values.\n",
        "\n",
        "    - Example: Number of heads in 3 coin tosses → 0, 1, 2, or 3.\n",
        "\n",
        "2. Continuous Random Variable: Takes any value in a continuous range.\n",
        "\n",
        "    - Example: Height of a person, or time taken to run 100 meters.\n",
        "\n",
        "- Importance in Probability and Statistics:\n",
        "\n",
        "    - Helps in calculating probabilities of events.\n",
        "\n",
        "    - Enables computation of expected value (mean), variance, and standard deviation.\n",
        "\n",
        "    - Forms the basis for probability distributions like PMF, PDF, and CDF.\n",
        "\n",
        "    - Allows modeling of real-world uncertain phenomena in fields like finance, engineering, and science."
      ],
      "metadata": {
        "id": "o6VCyIYEJ3Om"
      }
    },
    {
      "cell_type": "markdown",
      "source": [
        "# 2- What are the types of random variables?\n",
        "- Random variables in probability theory are mainly of two types:\n",
        "\n",
        "1.  Discrete Random Variable\n",
        "\n",
        "    - Takes specific, countable values.\n",
        "\n",
        "    - Often arises from counting events.\n",
        "\n",
        "    - Examples:\n",
        "\n",
        "      - Number of heads in 3 coin tosses → 0, 1, 2, 3\n",
        "\n",
        "       - Number of defective items in a batch\n",
        "\n",
        "    - Represented with a Probability Mass Function (PMF).\n",
        "\n",
        "2. Continuous Random Variable\n",
        "\n",
        "    - Takes any value within a range or interval.\n",
        "\n",
        "     - Often arises from measuring quantities.\n",
        "\n",
        "    - Examples:\n",
        "\n",
        "       - Height of a person → can be 150.2 cm, 150.25 cm, etc.\n",
        "\n",
        "       - Time taken to run 100 meters\n",
        "\n",
        "    - Represented with a Probability Density Function (PDF)."
      ],
      "metadata": {
        "id": "BIsf1akSP3ZU"
      }
    },
    {
      "cell_type": "markdown",
      "source": [
        "# 3- Explain the difference between discrete and continuous distributions.\n",
        "\n",
        "\n",
        "- Difference between discrete and continuous distributions in probability and statistics:\n",
        "\n",
        "1. Definition:\n",
        "\n",
        "    - Discrete Distribution: Deals with variables that can take countable, distinct values (e.g., integers).\n",
        "\n",
        "    - Continuous Distribution: Deals with variables that can take any value within a range or interval (e.g., real numbers).\n",
        "\n",
        "2. Values:\n",
        "\n",
        "    - Discrete: Values are separate and distinct, like 0, 1, 2, 3…\n",
        "\n",
        "    - Continuous: Values are uncountably infinite; they can include fractions or decimals, like 1.5, 2.37, 3.141.\n",
        "\n",
        "3. Examples:\n",
        "\n",
        "    - Discrete: Number of students in a class, number of cars in a parking lot, dice rolls.\n",
        "\n",
        "    - Continuous: Height, weight, temperature, time taken to complete a task.\n",
        "\n",
        "4. Probability Representation:\n",
        "\n",
        "    - Discrete: Probability is given by a Probability Mass Function (PMF).\n",
        "\n",
        "    - Continuous: Probability is given by a Probability Density Function (PDF).\n",
        "\n",
        "5. Probability of a Single Value:\n",
        "\n",
        "    - Discrete: The probability of a specific value is non-zero.\n",
        "\n",
        "    - Continuous: The probability of a single exact value is zero; we consider probability over a range of values.\n",
        "\n",
        "6. Summation vs Integration:\n",
        "\n",
        "    - Discrete: Probabilities are summed over possible values.\n",
        "\n",
        "    - Continuous: Probabilities are integrated over an interval.\n",
        "\n",
        "7. Graphical Representation:\n",
        "\n",
        "    - Discrete: Typically shown using a bar graph.\n",
        "\n",
        "    - Continuous: Typically shown using a smooth curve.\n",
        "\n",
        "8. Nature:\n",
        "\n",
        "    - Discrete: Countable and often finite.\n",
        "\n",
        "    - Continuous: Uncountable and can be infinite within a range."
      ],
      "metadata": {
        "id": "_tcpiXfZRkdf"
      }
    },
    {
      "cell_type": "markdown",
      "source": [
        "# 4-  What is a binomial distribution, and how is it used in probability?\n",
        "\n",
        "- A binomial distribution is a type of discrete probability distribution that describes the number of successes in a fixed number of independent trials, where each trial has only two possible outcomes — success or failure.\n",
        "\n",
        "- Key Points:\n",
        "\n",
        "1. Each trial has two outcomes — success (p) or failure (q = 1 - p).\n",
        "\n",
        "2. The number of trials (n) is fixed.\n",
        "\n",
        "3. All trials are independent of each other.\n",
        "\n",
        "4. The probability of success (p) remains the same in each trial\n",
        "\n",
        "- Uses of Binomial Distribution in Probability:\n",
        "1. Quality control: To check the probability of defective items in a batch.\n",
        "\n",
        "2. Medicine: To find the probability of patients recovering after a certain treatment.\n",
        "\n",
        "3. Business and marketing: To predict customer responses (e.g., success of ads).\n",
        "\n",
        "4. Finance: To model the probability of success or failure of investments.\n",
        "\n",
        "5. Games of chance: Like tossing coins or rolling dice, where there are two outcomes"
      ],
      "metadata": {
        "id": "xCNla8zGwGcY"
      }
    },
    {
      "cell_type": "markdown",
      "source": [
        "# 5- What is the standard normal distribution, and why is it important?\n",
        "\n",
        "- The Standard Normal Distribution is a special form of the normal (bell-shaped) distribution where the mean is zero and the standard deviation is one. It represents a perfectly symmetrical curve centered at zero, showing how data values are spread around the mean in terms of standard deviations.\n",
        "\n",
        "- Why is it Important:-\n",
        "1. It helps in simplifying probability calculations by converting any normal distribution into a common scale using standard scores (Z-scores).\n",
        "\n",
        "2. It is the foundation for most statistical methods, such as confidence intervals and hypothesis testing.\n",
        "\n",
        "3. It allows easy comparison between different datasets, even if they have different units or scales.\n",
        "\n",
        "4. It helps in understanding data variability, since most of the data in a standard normal curve lies close to the mean."
      ],
      "metadata": {
        "id": "lm1-ohMWAvw5"
      }
    },
    {
      "cell_type": "markdown",
      "source": [
        "# 6-  What is the Central Limit Theorem (CLT), and why is it critical in statistics?\n",
        "\n",
        "- When you take a large number of random samples from any population and calculate their means, the distribution of those sample means will tend to follow a normal distribution, no matter what the shape of the original population is — provided the sample size is large enough (usually n ≥ 30).\n",
        "\n",
        "- Key Points:\n",
        "\n",
        "1. The population can have any distribution (normal, skewed, uniform, etc.).\n",
        "\n",
        "2. As the sample size increases, the sample means become normally distributed.\n",
        "\n",
        "3. The mean of the sample means = the population mean (μ).\n",
        "\n",
        "4. The standard deviation of the sample means = standard error (SE)\n",
        "\n",
        "- Why is the Central Limit Theorem Critical in Statistics:-\n",
        "\n",
        "1. Foundation for Inferential Statistics:\n",
        "It allows us to use sample data to make inferences about the population, even if the population distribution is unknown.\n",
        "\n",
        "2. Basis for Confidence Intervals & Hypothesis Testing:\n",
        "Most statistical tests (like the t-test, z-test, and confidence intervals) rely on the assumption that sample means are normally distributed — which the CLT guarantees.\n",
        "\n",
        "3. Simplifies Analysis:\n",
        "Instead of working with complex or unknown distributions, we can use the normal distribution to approximate probabilities.\n",
        "\n",
        "4. Applies to Real-World Data:\n",
        "In real-world problems, population data is rarely normal. CLT makes it possible to analyze such data effectively using normal-based methods."
      ],
      "metadata": {
        "id": "7XE5S0mw-eNG"
      }
    },
    {
      "cell_type": "markdown",
      "source": [
        "# 7- What is the significance of confidence intervals in statistical analysis?\n",
        "\n",
        "- A confidence interval (CI) is a range of values that is used to estimate an unknown population parameter (like the mean or proportion) based on sample data. It shows how confident we are that the true value lies within that range.\n",
        "\n",
        "- Significance:\n",
        "\n",
        "1. Estimates the true population value:\n",
        "Confidence intervals give a range instead of a single number, providing a more realistic estimate of the population parameter.\n",
        "\n",
        "2. Measures reliability of the estimate:\n",
        "The wider the interval, the less precise the estimate; the narrower the interval, the more precise it is.\n",
        "\n",
        "3. Indicates level of confidence:\n",
        "Common levels like 95% or 99% confidence mean that if the same study were repeated many times, about 95% (or 99%) of the intervals would contain the true population value.\n",
        "\n",
        "4. Helps in decision-making:\n",
        "Confidence intervals help determine whether a result is statistically significant and guide conclusions in research, business, or experiments.\n",
        "\n",
        "5. Gives context to sample estimates:\n",
        "Instead of relying only on a sample mean or proportion, the interval shows how much uncertainty or variation exists in the estimate."
      ],
      "metadata": {
        "id": "WtdRtKwqFHGc"
      }
    },
    {
      "cell_type": "markdown",
      "source": [
        "# 8-What is the concept of expected value in a probability distribution?\n",
        "\n",
        "- The expected value (also called the mean of a probability distribution) is the average outcome you would expect if an experiment were repeated many times.\n",
        "It represents the long-term average or center of the distribution — the value you “expect” to get on average.\n",
        "\n",
        "- Key Points:\n",
        "\n",
        "    - It is a measure of central tendency in probability.\n",
        "\n",
        "    - It combines all possible outcomes and their associated probabilities.\n",
        "\n",
        "    - It helps in predicting the average result of a random process.\n",
        "\n",
        "    - It can be used for both discrete and continuous probability distributions.\n",
        "\n",
        "    - It plays an important role in decision-making, risk analysis, and economics.\n",
        "\n",
        "- Example:\n",
        "\n",
        "    - If you roll a fair die, the possible outcomes are 1 to 6.\n",
        "    \n",
        "     - The expected value is the average of all outcomes when each is equally likely.\n",
        "\n",
        "    - So, in the long run, your average roll will tend to be around 3.5 — even though 3.5 is not an actual possible outcome."
      ],
      "metadata": {
        "id": "LLvXsd_bF4QD"
      }
    },
    {
      "cell_type": "markdown",
      "source": [
        "# 9-  Write a Python program to generate 1000 random numbers from a normal distribution with mean = 50 and standard deviation = 5. Compute its mean and standard deviation using NumPy, and draw a histogram to visualize the distribution."
      ],
      "metadata": {
        "id": "RKCa0LnrG3zC"
      }
    },
    {
      "cell_type": "code",
      "source": [
        "import numpy as np\n",
        "import matplotlib.pyplot as plt\n",
        "\n",
        "# Step 1: Generate 1000 random numbers from a normal distribution\n",
        "data = np.random.normal(loc=50, scale=5, size=1000)  # mean=50, std=5\n",
        "\n",
        "# Step 2: Compute mean and standard deviation using NumPy\n",
        "mean = np.mean(data)\n",
        "std_dev = np.std(data)\n",
        "\n",
        "print(f\"Mean of generated data: {mean:.2f}\")\n",
        "print(f\"Standard Deviation of generated data: {std_dev:.2f}\")\n",
        "\n",
        "# Step 3: Draw a histogram to visualize the distribution\n",
        "plt.hist(data, bins=30, edgecolor='black')\n",
        "plt.title('Histogram of Normally Distributed Data (μ=50, σ=5)')\n",
        "plt.xlabel('Value')\n",
        "plt.ylabel('Frequency')\n",
        "plt.show()"
      ],
      "metadata": {
        "colab": {
          "base_uri": "https://localhost:8080/",
          "height": 508
        },
        "id": "QkEr3PFBHiCb",
        "outputId": "c9ec63d3-1f81-4069-92ce-baae53a6cda2"
      },
      "execution_count": 1,
      "outputs": [
        {
          "output_type": "stream",
          "name": "stdout",
          "text": [
            "Mean of generated data: 50.10\n",
            "Standard Deviation of generated data: 5.03\n"
          ]
        },
        {
          "output_type": "display_data",
          "data": {
            "text/plain": [
              "<Figure size 640x480 with 1 Axes>"
            ],
            "image/png": "[encoded data removed]"
          },
          "metadata": {}
        }
      ]
    },
    {
      "cell_type": "markdown",
      "source": [
        "# 10- You are working as a data analyst for a retail company. The company has collected daily sales data for 2 years and wants you to identify the overall sales trend. daily_sales = [220, 245, 210, 265, 230, 250, 260, 275, 240, 255, 235, 260, 245, 250, 225, 270, 265, 255, 250, 260] ● Explain how you would apply the Central Limit Theorem to estimate the average sales with a 95% confidence interval. ● Write the Python code to compute the mean sales and its confidence interval."
      ],
      "metadata": {
        "id": "DiN1Kru4O_Xt"
      }
    },
    {
      "cell_type": "code",
      "source": [
        "# # Question 10: You are working as a data analyst for a retail company. The company has  collected daily sales data for 2 years and wants you to identify the overall sales trend.\n",
        "# daily_sales = [220, 245, 210, 265, 230, 250, 260, 275, 240, 255,\n",
        "#  235, 260, 245, 250, 225, 270, 265, 255, 250, 260]\n",
        "# ● Explain how you would apply the Central Limit Theorem to estimate the average sales  with a 95% confidence interval.\n",
        "# ● Write the Python code to compute the mean sales and its confidence interval. (Include your Python code and output in the code box below.)\n",
        "\n",
        "\n",
        "# Applying the Central Limit Theorem (CLT):\n",
        "# The CLT states that the sampling distribution of the sample mean will be approximately normal if the sample size is reasonably large, even if the original data is not perfectly normal.\n",
        "\n",
        "\n",
        "# For your daily sales data, you can treat the 20 daily sales values as a sample from the overall sales population.\n",
        "\n",
        "\n",
        "# Using the CLT, you can calculate the mean of daily sales and the standard error (standard deviation divided by the square root of sample size).\n",
        "\n",
        "\n",
        "# Then, you can construct a 95% confidence interval for the average sales using the formula:\n",
        "\n",
        "\n",
        "# CI = Mean ± (Critical value × Standard Error)\n",
        "\n",
        "\n",
        "# For 95% confidence, the critical value is ~1.96 (from the z-distribution).\n",
        "# ###############################################################\n",
        "# Python Code:-\n",
        "####################\n",
        "import numpy as np\n",
        "from scipy import stats\n",
        "\n",
        "# Daily sales data\n",
        "daily_sales = [220, 245, 210, 265, 230, 250, 260, 275, 240, 255,\n",
        "               235, 260, 245, 250, 225, 270, 265, 255, 250, 260]\n",
        "\n",
        "# Convert to NumPy array\n",
        "sales = np.array(daily_sales)\n",
        "\n",
        "# Sample size, mean, and standard deviation\n",
        "n = len(sales)\n",
        "mean_sales = np.mean(sales)\n",
        "std_sales = np.std(sales, ddof=1)  # sample standard deviation\n",
        "\n",
        "# Standard error\n",
        "std_error = std_sales / np.sqrt(n)\n",
        "\n",
        "# 95% confidence interval (using t-distribution because sample size < 30)\n",
        "confidence_level = 0.95\n",
        "t_critical = stats.t.ppf((1 + confidence_level)/2, df=n-1)\n",
        "\n",
        "margin_of_error = t_critical * std_error\n",
        "\n",
        "ci_lower = mean_sales - margin_of_error\n",
        "ci_upper = mean_sales + margin_of_error\n",
        "\n",
        "print(f\"Mean Sales: {mean_sales:.2f}\")\n",
        "print(f\"95% Confidence Interval: ({ci_lower:.2f}, {ci_upper:.2f})\")"
      ],
      "metadata": {
        "colab": {
          "base_uri": "https://localhost:8080/"
        },
        "id": "OJQBYqASRx3F",
        "outputId": "bf4a494a-5daa-4f66-ad78-94e5684c0f45"
      },
      "execution_count": 1,
      "outputs": [
        {
          "output_type": "stream",
          "name": "stdout",
          "text": [
            "Mean Sales: 248.25\n",
            "95% Confidence Interval: (240.17, 256.33)\n"
          ]
        }
      ]
    }
  ]
}